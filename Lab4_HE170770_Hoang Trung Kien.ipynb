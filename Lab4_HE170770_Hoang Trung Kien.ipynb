{
 "cells": [
  {
   "cell_type": "markdown",
   "id": "f1b0de4f-c980-47cf-9b84-99595d3c6555",
   "metadata": {},
   "source": [
    "<center>\n",
    "    <img src=\"https://upload.wikimedia.org/wikipedia/vi/1/1d/Logo_%C4%90%E1%BA%A1i_h%E1%BB%8Dc_FPT.png\" width=\"300\" alt=\"cognitiveclass.ai logo\"  />\n",
    "</center>\n",
    "\n",
    "# Lab 4: Jupyter Notebook practical\n",
    "\n",
    "<br>\n",
    "\n",
    "#### Class name: AI 1701\n",
    "\n",
    "#### Student code: HE170770\n",
    "\n",
    "#### Student name: Hoàng Trung Kiên\n",
    "\n",
    "<br>\n",
    "\n",
    "## Objectives\n",
    "\n",
    "After completing this lab you will be able to:\n",
    "\n",
    "*   Create new cell in Jupyter Notebook\n",
    "*   Change the cell type\n",
    "*   Using markdown cell symbols\n",
    "*   Using mark up tags\n",
    "\n",
    "Estimated time needed: **60** minutes"
   ]
  },
  {
   "cell_type": "markdown",
   "id": "21252fdb",
   "metadata": {},
   "source": [
    "## Lab 4: Jupyter Notebook \n",
    "![](https://github.com/jupyter/notebook/workflows/Build/badge.svg)\n",
    "![](https://camo.githubusercontent.com/90d91e262a7444b070b4fbf9955f33b74b8f175a0e0d8dc7aaf4b7cb63fb9f67/68747470733a2f2f72656164746865646f63732e6f72672f70726f6a656374732f6a7570797465722d6e6f7465626f6f6b2f62616467652f3f76657273696f6e3d6c6174657374)\n",
    "![](https://camo.githubusercontent.com/581c077bdbc6ca6899c86d0acc6145ae85e9d80e6f805a1071793dbe48917982/68747470733a2f2f6d7962696e6465722e6f72672f62616467655f6c6f676f2e737667)\n",
    "![](https://camo.githubusercontent.com/0863d140186864ca9f93ded019e623e95f4778d951ecf2b1cd7fd6fa4e54e1c6/68747470733a2f2f636f6465636f762e696f2f67682f6a7570797465722f6e6f7465626f6f6b2f6272616e63682f6d61737465722f67726170682f62616467652e737667)\n",
    "\n",
    "The Jupyter notebook is a web-based notebook environment for interactive computing."
   ]
  },
  {
   "cell_type": "markdown",
   "id": "0ef6eb22",
   "metadata": {},
   "source": [
    "![](https://raw.githubusercontent.com/jupyter/notebook/main/docs/resources/running_code_med.png)"
   ]
  },
  {
   "cell_type": "markdown",
   "id": "e85c05c0",
   "metadata": {},
   "source": [
    "## Maintained versions\n",
    "We maintain the **two most recently released major versions of Jupyter Notebook**, Notebook v5 and Classic Notebook v6. After Notebook v7.0 is released, we will no longer maintain Notebook v5. All Notebook v5 users are strongly advised to upgrade to Classic Notebook v6 as soon as possible.\n",
    "\n",
    "The Jupyter Notebook project is currently undertaking a transition to a more modern code base built from the ground-up using JupyterLab components and extensions.\n",
    "\n",
    "There is new stream of work which was submitted and then accepted as a Jupyter Enhancement Proposal (JEP) as part of the next version (v7): https://jupyter.org/enhancement-proposals/79-notebook-v7/notebook-v7.html\n",
    "\n",
    "There is also a plan to continue maintaining Notebook v6 with bug and security fixes only, to ease the transition to Notebook v7: jupyter/notebook-team-compass#5 (comment)\n",
    "\n",
    "### Notebook v7\n",
    "The next major version of Notebook will be based on:\n",
    "\n",
    "JupyterLab components for the frontend\n",
    "Jupyter Server for the Python server This represents a significant change to the jupyter/notebook code base.\n",
    "To learn more about Notebook v7: https://jupyter.org/enhancement-proposals/79-notebook-v7/notebook-v7.html\n",
    "\n",
    "### Classic Notebook v6\n",
    "Maintainance and security-related issues are now being addressed in the 6.4.x branch.\n",
    "\n",
    "A 6.5.x branch will be soon created and will depend on nbclassic for the HTML/JavaScript/CSS assets.\n",
    "\n",
    "New features and continuous improvement is now focused on Notebook v7 (see section above).\n",
    "\n",
    "If you have an open pull request with a new feature or if you were planning to open one, we encourage switching over to the Jupyter Server and JupyterLab architecture, and distribute it as a server extension and / or JupyterLab prebuilt extension. That way your new feature will also be compatible with the new Notebook v7.\n",
    "\n",
    "## Jupyter notebook, the language-agnostic evolution of IPython notebook\n",
    "Jupyter notebook is a language-agnostic HTML notebook application for Project Jupyter. In 2015, Jupyter notebook was released as a part of The Big Split™ of the IPython codebase. IPython 3 was the last major monolithic release containing both language-agnostic code, such as the IPython notebook, and language specific code, such as the IPython kernel for Python. As computing spans across many languages, Project Jupyter will continue to develop the language-agnostic Jupyter notebook in this repo and with the help of the community develop language specific kernels which are found in their own discrete repos.\n",
    "\n",
    "* [The Big Split™ announcement]()\n",
    "* [Jupyter Ascending blog post]()\n",
    "\n",
    "## Installation\n",
    "You can find the installation documentation for the Jupyter platform, on ReadTheDocs. The documentation for advanced usage of Jupyter notebook can be found here.\n",
    "\n",
    "For a local installation, make sure you have pip installed and run:\n",
    "\n",
    "pip install notebook\n",
    "\n",
    "### Usage - Running Jupyter notebook\n",
    "#### Running in a local installation\n",
    "Launch with:\n",
    "\n",
    "jupyter notebook\n",
    "\n",
    "#### Running in a remote installation\n",
    "You need some configuration before starting Jupyter notebook remotely. See Running a notebook server.\n",
    "\n",
    "### Development Installation\n",
    "See CONTRIBUTING.md for how to set up a local development installation.\n",
    "\n",
    "### Contributing\n",
    "If you are interested in contributing to the project, see CONTRIBUTING.md.\n",
    "\n",
    "### Community Guidelines and Code of Conduct\n",
    "This repository is a Jupyter project and follows the Jupyter Community Guides and Code of Conduct.\n",
    "\n",
    "## Resources\n",
    "Project Jupyter website\n",
    "Online Demo at jupyter.org/try\n",
    "Documentation for Jupyter notebook [PDF]\n",
    "Korean Version of Installation\n",
    "Documentation for Project Jupyter [PDF]\n",
    "CIssues\n",
    "Technical support - Jupyter Google Group"
   ]
  },
  {
   "cell_type": "markdown",
   "id": "e6962246-5ce1-4fee-880c-7d28a2a86c5a",
   "metadata": {},
   "source": [
    "## Image links using in the lab\n",
    "\n",
    "#### <font color='red'>Note: Please delete this cell after complete your notebook</font>\n",
    "\n",
    "https://github.com/jupyter/notebook/workflows/Build/badge.svg\n",
    "\n",
    "https://camo.githubusercontent.com/90d91e262a7444b070b4fbf9955f33b74b8f175a0e0d8dc7aaf4b7cb63fb9f67/68747470733a2f2f72656164746865646f63732e6f72672f70726f6a656374732f6a7570797465722d6e6f7465626f6f6b2f62616467652f3f76657273696f6e3d6c6174657374\n",
    "\n",
    "https://camo.githubusercontent.com/581c077bdbc6ca6899c86d0acc6145ae85e9d80e6f805a1071793dbe48917982/68747470733a2f2f6d7962696e6465722e6f72672f62616467655f6c6f676f2e737667\n",
    "\n",
    "https://camo.githubusercontent.com/0863d140186864ca9f93ded019e623e95f4778d951ecf2b1cd7fd6fa4e54e1c6/68747470733a2f2f636f6465636f762e696f2f67682f6a7570797465722f6e6f7465626f6f6b2f6272616e63682f6d61737465722f67726170682f62616467652e737667\n",
    "\n",
    "https://github.com/jupyter/notebook/raw/main/docs/resources/running_code_med.png"
   ]
  },
  {
   "cell_type": "markdown",
   "id": "e8be6833",
   "metadata": {},
   "source": []
  }
 ],
 "metadata": {
  "kernelspec": {
   "display_name": "Python 3.9.12 ('base')",
   "language": "python",
   "name": "python3"
  },
  "language_info": {
   "codemirror_mode": {
    "name": "ipython",
    "version": 3
   },
   "file_extension": ".py",
   "mimetype": "text/x-python",
   "name": "python",
   "nbconvert_exporter": "python",
   "pygments_lexer": "ipython3",
   "version": "3.9.12"
  },
  "vscode": {
   "interpreter": {
    "hash": "88a9dbdcc13095bc588cb483f99491e3fc91a431fa3488a6b5ccd26a7ebb2e81"
   }
  }
 },
 "nbformat": 4,
 "nbformat_minor": 5
}
